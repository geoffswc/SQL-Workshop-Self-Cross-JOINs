{
 "cells": [
  {
   "cell_type": "markdown",
   "metadata": {},
   "source": [
    "### finding duplicate rows\n",
    "\n",
    "This is a common task (and a common interview question)"
   ]
  },
  {
   "cell_type": "code",
   "execution_count": null,
   "metadata": {},
   "outputs": [],
   "source": [
    "# create a list of rows, with some duplicates\n",
    "# to make it easier to track this visually, duplicates have v1==v2\n",
    "entries = [\n",
    "    [0,0], \n",
    "    [0,0],\n",
    "    [1,0], \n",
    "    [1,1],\n",
    "    [1,1],\n",
    "    [2,1],\n",
    "    [2,2],\n",
    "    [2,2],\n",
    "    [3,2],\n",
    "    [3,3],\n",
    "    [3,3],\n",
    "    [4,3],\n",
    "    [4,4],\n",
    "    [4,4],\n",
    "    [5,4],\n",
    "    [5,5],\n",
    "    [5,5],\n",
    "    [6,5],\n",
    "] \n",
    "\n",
    "headers = ['v1','v2']"
   ]
  },
  {
   "cell_type": "code",
   "execution_count": null,
   "metadata": {},
   "outputs": [],
   "source": [
    "import pandas as pd"
   ]
  },
  {
   "cell_type": "code",
   "execution_count": null,
   "metadata": {},
   "outputs": [],
   "source": [
    "df = pd.DataFrame(entries, columns=headers)"
   ]
  },
  {
   "cell_type": "code",
   "execution_count": null,
   "metadata": {},
   "outputs": [],
   "source": [
    "df"
   ]
  },
  {
   "cell_type": "code",
   "execution_count": null,
   "metadata": {},
   "outputs": [],
   "source": [
    "from pandasql import sqldf\n",
    "pysqldf = lambda q: sqldf(q, globals())"
   ]
  },
  {
   "cell_type": "markdown",
   "metadata": {},
   "source": [
    "### Use a COUNT and GROUP BY\n",
    "\n",
    "You can group by the set of columns that may contain a duplicated, then count the number of results in each group. All results with more than 1 result will contain a duplicate set of values in each of the columns"
   ]
  },
  {
   "cell_type": "code",
   "execution_count": null,
   "metadata": {},
   "outputs": [],
   "source": [
    "pysqldf(\"SELECT v1, v2, COUNT(v1) FROM df group by v1, v2 HAVING COUNT(v1) > 1\")"
   ]
  },
  {
   "cell_type": "markdown",
   "metadata": {},
   "source": [
    "### Use RowID\n",
    "\n",
    "If you have rowid (in sqlite) or other unique sequential identifier for a row, you can use MIN or MAX to identify rows that have duplicates"
   ]
  },
  {
   "cell_type": "code",
   "execution_count": null,
   "metadata": {},
   "outputs": [],
   "source": [
    "# rows with duplicates will have different values for MIN and MAX rowid\n",
    "pysqldf(\"SELECT v1, v2, min(rowid), max(rowid) FROM df GROUP BY v1, v2\")"
   ]
  },
  {
   "cell_type": "code",
   "execution_count": null,
   "metadata": {},
   "outputs": [],
   "source": [
    "# leverage this to find rows with a duplicate (ie., a row value that isn't the MIN for the group)\n",
    "pysqldf(\"\"\"\n",
    "SELECT \n",
    "    rowid, * \n",
    "FROM \n",
    "    df\n",
    "WHERE \n",
    "    rowid \n",
    "NOT IN\n",
    "    (SELECT \n",
    "        min(rowid) \n",
    "    FROM df \n",
    "        GROUP BY v1, v2\n",
    "    )\n",
    "\"\"\")"
   ]
  },
  {
   "cell_type": "markdown",
   "metadata": {},
   "source": [
    "### Without a rowid\n",
    "\n",
    "If you don't have a rowid (or our database doesn't auto-generate one for you), you can use a partition to pick out the duplicates"
   ]
  },
  {
   "cell_type": "code",
   "execution_count": null,
   "metadata": {},
   "outputs": [],
   "source": [
    "pysqldf(\"\"\"\n",
    "WITH df_1 AS \n",
    "(\n",
    "    SELECT \n",
    "        a.v1, \n",
    "        a.v2, \n",
    "        ROW_NUMBER() OVER (PARTITION BY v1, v2) as row_id \n",
    "    FROM \n",
    "        df a\n",
    ")\n",
    "\n",
    "SELECT \n",
    "    * \n",
    "FROM \n",
    "    df_1\n",
    "WHERE\n",
    "    row_id NOT IN \n",
    "    (SELECT \n",
    "        MIN(row_id)\n",
    "    FROM\n",
    "        df_1\n",
    "    GROUP BY v1, v2\n",
    "    )\n",
    "\"\"\")"
   ]
  }
 ],
 "metadata": {
  "kernelspec": {
   "display_name": "Python 3",
   "language": "python",
   "name": "python3"
  },
  "language_info": {
   "codemirror_mode": {
    "name": "ipython",
    "version": 3
   },
   "file_extension": ".py",
   "mimetype": "text/x-python",
   "name": "python",
   "nbconvert_exporter": "python",
   "pygments_lexer": "ipython3",
   "version": "3.6.8"
  }
 },
 "nbformat": 4,
 "nbformat_minor": 2
}
